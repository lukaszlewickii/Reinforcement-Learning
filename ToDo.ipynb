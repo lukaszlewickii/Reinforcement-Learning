{
 "cells": [
  {
   "attachments": {},
   "cell_type": "markdown",
   "metadata": {},
   "source": [
    "# Sarsa & Q Learning\n",
    "In this exercise you are going to implement two algorithms: `SARSA` and `Q-Learning`.\n",
    "Both `SARSA` and `Q-Learning` are examples of `Temporal Diference` (TD) algorithms. The main diference is in update rule. `SARSA` is an On-policy method - we are computing $TD_{target}$ using the same policy that we used for explorarion ($\\epsilon-Greedy$): \n",
    "\n",
    "$Q(S_t, A_t) = Q(S_t, A_t) + \\alpha[R_{t+1} + \\gamma Q(S_{t+1}, A_{t+1}) - Q(S_t, A_t)$\n",
    "\n",
    "whereas in `Q-Learning` we are using $\\epsilon-Greedy$ policy to explore, and $Greedy$ policy to compute $TD_{target}$:\n",
    "\n",
    "$Q(S_t, A_t) = Q(S_t, A_t) + \\alpha[R_{t+1} + \\gamma \\max\\limits_{a'} Q(S_{t+1}, a') - Q(S_t, A_t)$\n",
    "\n",
    "In the first two task you are going to work with the [Cliff Walking](https://www.gymlibrary.dev/environments/toy_text/cliff_walking/) environment, whereas in task 3 the [Taxi](https://www.gymlibrary.dev/environments/toy_text/taxi/) enviornment will be used.\n",
    "\n",
    "\n",
    "### Tasks Overview\n",
    "1. Task 1: SARSA and [Cliff Walking](https://www.gymlibrary.dev/environments/toy_text/cliff_walking/) environment.\n",
    "\n",
    "2. Task 2: Q-Learning and [Cliff Walking](https://www.gymlibrary.dev/environments/toy_text/cliff_walking/) environment\n",
    "    - In `agents.py` complete the `QLearningAgent` class (you must compliete `get_action` and `update` methods)\n",
    "    - set the parameters $\\alpha$, $\\gamma$, and $\\epsilon$ for the `qAgent`\n",
    "    - Complete the learning loop in this notebook. Run it and train the agent.\n",
    "    - Test the agent. You may test it by using `python render.py -a QLearning` from the command line. Make sure that your agent chooses actions correctly.\n",
    "3. Task 3. [Taxi](https://www.gymlibrary.dev/environments/toy_text/taxi/) enviornment\n",
    "    - Apply both `SARSA` and `QLearning` agents for the [Taxi](https://www.gymlibrary.dev/environments/toy_text/taxi/) enviornment. Test the results.\n",
    "\n",
    "\n"
   ]
  },
  {
   "cell_type": "code",
   "execution_count": 29,
   "metadata": {},
   "outputs": [],
   "source": [
    "import gym\n",
    "import numpy as np\n",
    "import matplotlib.pyplot as plt\n",
    "from tqdm import tqdm\n",
    "\n",
    "from agents import SarsaAgent, QLearningAgent\n"
   ]
  },
  {
   "attachments": {},
   "cell_type": "markdown",
   "metadata": {},
   "source": [
    "## Cliff walking Environment.\n",
    "![alt text](https://www.gymlibrary.dev/_images/cliff_walking.gif)\n",
    "\n",
    "### Task 1 - SARSA\n",
    "1. In `agents.py` complete the `SarsaAgent` class (you must complete `get_action` and `update` methods).\n",
    "2. Set the parameters $\\alpha$, $\\gamma$, and $\\epsilon$ for the `sarsaAgent`.\n",
    "3. Complete the learning loop in this notebook. Run it and train the agent.\n",
    "5. Test the agent. You may test it by using `python render.py -a SARSA` from the command line. Make sure that your agent chooses actions correctly. Change the parameters from point 2 or increase the number of training episodes if necessary."
   ]
  },
  {
   "cell_type": "code",
   "execution_count": 30,
   "metadata": {},
   "outputs": [],
   "source": [
    "env = gym.make('CliffWalking-v0')\n",
    "# YOUR CODE HERE\n",
    "# Set the parameters of the agent\n",
    "sarsaAgent = SarsaAgent(env, alpha=0.5, gamma=0.99, epsilon=0.1)"
   ]
  },
  {
   "cell_type": "code",
   "execution_count": 31,
   "metadata": {},
   "outputs": [
    {
     "name": "stderr",
     "output_type": "stream",
     "text": [
      "  0%|          | 0/100 [00:00<?, ?it/s]\n"
     ]
    },
    {
     "ename": "KeyError",
     "evalue": "None",
     "output_type": "error",
     "traceback": [
      "\u001b[1;31m---------------------------------------------------------------------------\u001b[0m",
      "\u001b[1;31mKeyError\u001b[0m                                  Traceback (most recent call last)",
      "\u001b[1;32md:\\Desktop\\Studia\\Informatyka - II stopień\\II semestr\\Reinforcement Learning\\Reinforcement-Learning\\ToDo.ipynb Cell 5\u001b[0m in \u001b[0;36m1\n\u001b[0;32m     <a href='vscode-notebook-cell:/d%3A/Desktop/Studia/Informatyka%20-%20II%20stopie%C5%84/II%20semestr/Reinforcement%20Learning/Reinforcement-Learning/ToDo.ipynb#X22sZmlsZQ%3D%3D?line=11'>12</a>\u001b[0m done \u001b[39m=\u001b[39m \u001b[39mFalse\u001b[39;00m\n\u001b[0;32m     <a href='vscode-notebook-cell:/d%3A/Desktop/Studia/Informatyka%20-%20II%20stopie%C5%84/II%20semestr/Reinforcement%20Learning/Reinforcement-Learning/ToDo.ipynb#X22sZmlsZQ%3D%3D?line=12'>13</a>\u001b[0m \u001b[39mwhile\u001b[39;00m \u001b[39mnot\u001b[39;00m done:\n\u001b[0;32m     <a href='vscode-notebook-cell:/d%3A/Desktop/Studia/Informatyka%20-%20II%20stopie%C5%84/II%20semestr/Reinforcement%20Learning/Reinforcement-Learning/ToDo.ipynb#X22sZmlsZQ%3D%3D?line=13'>14</a>\u001b[0m     \u001b[39m# Perform the selected action\u001b[39;00m\n\u001b[1;32m---> <a href='vscode-notebook-cell:/d%3A/Desktop/Studia/Informatyka%20-%20II%20stopie%C5%84/II%20semestr/Reinforcement%20Learning/Reinforcement-Learning/ToDo.ipynb#X22sZmlsZQ%3D%3D?line=14'>15</a>\u001b[0m     next_state, reward, done, truncated, info \u001b[39m=\u001b[39m env\u001b[39m.\u001b[39mstep(action)\n\u001b[0;32m     <a href='vscode-notebook-cell:/d%3A/Desktop/Studia/Informatyka%20-%20II%20stopie%C5%84/II%20semestr/Reinforcement%20Learning/Reinforcement-Learning/ToDo.ipynb#X22sZmlsZQ%3D%3D?line=15'>16</a>\u001b[0m     \u001b[39m# Select next action        \u001b[39;00m\n\u001b[0;32m     <a href='vscode-notebook-cell:/d%3A/Desktop/Studia/Informatyka%20-%20II%20stopie%C5%84/II%20semestr/Reinforcement%20Learning/Reinforcement-Learning/ToDo.ipynb#X22sZmlsZQ%3D%3D?line=16'>17</a>\u001b[0m     next_action \u001b[39m=\u001b[39m sarsaAgent\u001b[39m.\u001b[39mget_action(next_state)\n",
      "File \u001b[1;32mc:\\Users\\Łukasz\\AppData\\Local\\Programs\\Python\\Python310\\lib\\site-packages\\gym\\wrappers\\order_enforcing.py:37\u001b[0m, in \u001b[0;36mOrderEnforcing.step\u001b[1;34m(self, action)\u001b[0m\n\u001b[0;32m     35\u001b[0m \u001b[39mif\u001b[39;00m \u001b[39mnot\u001b[39;00m \u001b[39mself\u001b[39m\u001b[39m.\u001b[39m_has_reset:\n\u001b[0;32m     36\u001b[0m     \u001b[39mraise\u001b[39;00m ResetNeeded(\u001b[39m\"\u001b[39m\u001b[39mCannot call env.step() before calling env.reset()\u001b[39m\u001b[39m\"\u001b[39m)\n\u001b[1;32m---> 37\u001b[0m \u001b[39mreturn\u001b[39;00m \u001b[39mself\u001b[39;49m\u001b[39m.\u001b[39;49menv\u001b[39m.\u001b[39;49mstep(action)\n",
      "File \u001b[1;32mc:\\Users\\Łukasz\\AppData\\Local\\Programs\\Python\\Python310\\lib\\site-packages\\gym\\wrappers\\env_checker.py:37\u001b[0m, in \u001b[0;36mPassiveEnvChecker.step\u001b[1;34m(self, action)\u001b[0m\n\u001b[0;32m     35\u001b[0m \u001b[39mif\u001b[39;00m \u001b[39mself\u001b[39m\u001b[39m.\u001b[39mchecked_step \u001b[39mis\u001b[39;00m \u001b[39mFalse\u001b[39;00m:\n\u001b[0;32m     36\u001b[0m     \u001b[39mself\u001b[39m\u001b[39m.\u001b[39mchecked_step \u001b[39m=\u001b[39m \u001b[39mTrue\u001b[39;00m\n\u001b[1;32m---> 37\u001b[0m     \u001b[39mreturn\u001b[39;00m env_step_passive_checker(\u001b[39mself\u001b[39;49m\u001b[39m.\u001b[39;49menv, action)\n\u001b[0;32m     38\u001b[0m \u001b[39melse\u001b[39;00m:\n\u001b[0;32m     39\u001b[0m     \u001b[39mreturn\u001b[39;00m \u001b[39mself\u001b[39m\u001b[39m.\u001b[39menv\u001b[39m.\u001b[39mstep(action)\n",
      "File \u001b[1;32mc:\\Users\\Łukasz\\AppData\\Local\\Programs\\Python\\Python310\\lib\\site-packages\\gym\\utils\\passive_env_checker.py:214\u001b[0m, in \u001b[0;36menv_step_passive_checker\u001b[1;34m(env, action)\u001b[0m\n\u001b[0;32m    212\u001b[0m \u001b[39m\"\"\"A passive check for the environment step, investigating the returning data then returning the data unchanged.\"\"\"\u001b[39;00m\n\u001b[0;32m    213\u001b[0m \u001b[39m# We don't check the action as for some environments then out-of-bounds values can be given\u001b[39;00m\n\u001b[1;32m--> 214\u001b[0m result \u001b[39m=\u001b[39m env\u001b[39m.\u001b[39;49mstep(action)\n\u001b[0;32m    215\u001b[0m \u001b[39massert\u001b[39;00m \u001b[39misinstance\u001b[39m(\n\u001b[0;32m    216\u001b[0m     result, \u001b[39mtuple\u001b[39m\n\u001b[0;32m    217\u001b[0m ), \u001b[39mf\u001b[39m\u001b[39m\"\u001b[39m\u001b[39mExpects step result to be a tuple, actual type: \u001b[39m\u001b[39m{\u001b[39;00m\u001b[39mtype\u001b[39m(result)\u001b[39m}\u001b[39;00m\u001b[39m\"\u001b[39m\n\u001b[0;32m    218\u001b[0m \u001b[39mif\u001b[39;00m \u001b[39mlen\u001b[39m(result) \u001b[39m==\u001b[39m \u001b[39m4\u001b[39m:\n",
      "File \u001b[1;32mc:\\Users\\Łukasz\\AppData\\Local\\Programs\\Python\\Python310\\lib\\site-packages\\gym\\envs\\toy_text\\cliffwalking.py:146\u001b[0m, in \u001b[0;36mCliffWalkingEnv.step\u001b[1;34m(self, a)\u001b[0m\n\u001b[0;32m    145\u001b[0m \u001b[39mdef\u001b[39;00m \u001b[39mstep\u001b[39m(\u001b[39mself\u001b[39m, a):\n\u001b[1;32m--> 146\u001b[0m     transitions \u001b[39m=\u001b[39m \u001b[39mself\u001b[39;49m\u001b[39m.\u001b[39;49mP[\u001b[39mself\u001b[39;49m\u001b[39m.\u001b[39;49ms][a]\n\u001b[0;32m    147\u001b[0m     i \u001b[39m=\u001b[39m categorical_sample([t[\u001b[39m0\u001b[39m] \u001b[39mfor\u001b[39;00m t \u001b[39min\u001b[39;00m transitions], \u001b[39mself\u001b[39m\u001b[39m.\u001b[39mnp_random)\n\u001b[0;32m    148\u001b[0m     p, s, r, t \u001b[39m=\u001b[39m transitions[i]\n",
      "\u001b[1;31mKeyError\u001b[0m: None"
     ]
    }
   ],
   "source": [
    "sarsa_Rewards = []\n",
    "# Change the number of episodes, if necessary\n",
    "for episode in tqdm(range(100)):\n",
    "    episode_reward = 0\n",
    "    state, info = env.reset()\n",
    "    \n",
    "    # Create an instance of the SarsaAgent class\n",
    "    sarsaAgent = SarsaAgent(env, alpha=0.1, gamma=0, epsilon=0.1)\n",
    "    \n",
    "    # Use the agent to choose the first action\n",
    "    action = sarsaAgent.get_action(state)\n",
    "    done = False\n",
    "    while not done:\n",
    "        # Perform the selected action\n",
    "        next_state, reward, done, truncated, info = env.step(action)\n",
    "        # Select next action        \n",
    "        next_action = sarsaAgent.get_action(next_state)\n",
    "        # Update the agent\n",
    "        sarsaAgent.update(state, action, reward, next_state, next_action)\n",
    "        \n",
    "        # Assign the next state and action to the current ones\n",
    "        state = next_state\n",
    "        action = next_action\n",
    "        episode_reward += reward\n",
    "    sarsa_Rewards.append(episode_reward)\n",
    "\n",
    "sarsaAgent.save()\n",
    "plt.plot(sarsa_Rewards)"
   ]
  },
  {
   "attachments": {},
   "cell_type": "markdown",
   "metadata": {},
   "source": [
    "### Task 2 - Q-Learning\n",
    "1. In `agents.py` complete the `QLearningAgent` class (you must complete `get_action` and `update` methods)\n",
    "2. Set the parameters $\\alpha$, $\\gamma$, and $\\epsilon$ for the `qAgent`\n",
    "3. Complete the learning loop in this notebook. Run it and train the agent.\n",
    "4. Test the agent. You may test it by using `python render.py -a QLearning` from the command line. Make sure that your agent chooses actions correctly. Change the parameters from point 2 or increase the number of training episodes if necessary."
   ]
  },
  {
   "cell_type": "code",
   "execution_count": null,
   "metadata": {},
   "outputs": [],
   "source": [
    "# YOUR CODE HERE\n",
    "# Set the parameters of the agent\n",
    "qAgent = QLearningAgent(env, alpha=0.1, gamma=0.95, epsilon=0.1)"
   ]
  },
  {
   "cell_type": "code",
   "execution_count": null,
   "metadata": {},
   "outputs": [],
   "source": [
    "Q_rewards = []\n",
    "for episode in tqdm(range(100)):\n",
    "    episode_reward = 0\n",
    "    state, info = env.reset()\n",
    "    done = False\n",
    "    while not done:\n",
    "        # Choose an action\n",
    "        action = None # YOUR CODE HERE\n",
    "        \n",
    "        # Perform the selected action\n",
    "        next_state, reward, done, truncated, info = None # YOUR CODE HERE\n",
    "\n",
    "        # Update the agent\n",
    "        # YOUR CODE HERE\n",
    "\n",
    "        # Assign the next state to the current one\n",
    "        state = None # YOUR CODE HERE\n",
    "        \n",
    "        episode_reward += reward\n",
    "    Q_rewards.append(episode_reward)\n",
    "        \n",
    "qAgent.save()\n",
    "plt.plot(Q_rewards)\n"
   ]
  },
  {
   "attachments": {},
   "cell_type": "markdown",
   "metadata": {},
   "source": [
    "## Taxi Environment\n",
    "![alt text](https://www.gymlibrary.dev/_images/taxi.gif)"
   ]
  },
  {
   "attachments": {},
   "cell_type": "markdown",
   "metadata": {},
   "source": [
    "### - Task 3 - Taxi environment\n",
    "- Apply both `SARSA` and `QLearning` agents for the [Taxi](https://www.gymlibrary.dev/environments/toy_text/taxi/) enviornment. Note that you may want to save the $Q_{estimated}$ values in the different files. You can do it using a parameter in `agent.save` method, for example: `sarsaAgent.save('Taxi_Sarsa.npy')` and `QAgent.save('Taxi_Q.npy')`\n",
    "- Test the agents. If you saved the parameters as above, you may test them using `python render.py -a SARSA -e Taxi-v3 -f Taxi_Sarsa.npy` for SARSA and `python render.py -a QLearning -e Taxi-v3 -f Taxi_Q.npy` for Q-Learning. Make sure that your agent chooses actions correctly. Change the agent parameters the number of training episodes if necessary.\n",
    "\n",
    "\n",
    "*Note: I noticed that the environment sometimes does not render correctly (rendering is not displayed despite the correct actions taken). If you observe something like this double-check the printed states - it may be simply the environment error.* \n"
   ]
  },
  {
   "cell_type": "code",
   "execution_count": null,
   "metadata": {},
   "outputs": [],
   "source": [
    "env = gym.make('Taxi-v3')\n",
    "# YOUR CODE HERE"
   ]
  },
  {
   "cell_type": "code",
   "execution_count": null,
   "metadata": {},
   "outputs": [],
   "source": [
    "# YOUR CODE HERE"
   ]
  },
  {
   "cell_type": "code",
   "execution_count": null,
   "metadata": {},
   "outputs": [],
   "source": [
    "# YOUR CODE HERE"
   ]
  }
 ],
 "metadata": {
  "kernelspec": {
   "display_name": "gym",
   "language": "python",
   "name": "python3"
  },
  "language_info": {
   "codemirror_mode": {
    "name": "ipython",
    "version": 3
   },
   "file_extension": ".py",
   "mimetype": "text/x-python",
   "name": "python",
   "nbconvert_exporter": "python",
   "pygments_lexer": "ipython3",
   "version": "3.10.5"
  },
  "orig_nbformat": 4
 },
 "nbformat": 4,
 "nbformat_minor": 2
}
