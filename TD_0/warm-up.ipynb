{
 "cells": [
  {
   "cell_type": "code",
   "execution_count": 1,
   "metadata": {},
   "outputs": [],
   "source": [
    "import gym\n",
    "import gym_walking\n",
    "import numpy as np"
   ]
  },
  {
   "cell_type": "code",
   "execution_count": 2,
   "metadata": {},
   "outputs": [],
   "source": [
    "env = gym.make('Walking5-v0')\n",
    "pi = lambda x: np.random.randint(2)"
   ]
  },
  {
   "cell_type": "code",
   "execution_count": 3,
   "metadata": {},
   "outputs": [],
   "source": [
    "state, info = env.reset()\n",
    "terminal = False"
   ]
  },
  {
   "cell_type": "code",
   "execution_count": 4,
   "metadata": {},
   "outputs": [
    {
     "name": "stdout",
     "output_type": "stream",
     "text": [
      "State: 3, action: 0, next state: 2, reward: 0, terminal: False\n",
      "State: 2, action: 1, next state: 3, reward: 0, terminal: False\n",
      "State: 3, action: 0, next state: 2, reward: 0, terminal: False\n",
      "State: 2, action: 0, next state: 1, reward: 0, terminal: False\n",
      "State: 1, action: 0, next state: 0, reward: 0, terminal: True\n"
     ]
    }
   ],
   "source": [
    "while not terminal:\n",
    "    action = pi(state)\n",
    "    next_state, reward, terminal, truncated, info = env.step(action)\n",
    "    print (f'State: {state}, action: {action}, next state: {next_state}, reward: {reward}, terminal: {terminal}')\n",
    "    env.render()\n",
    "    state = next_state"
   ]
  }
 ],
 "metadata": {
  "kernelspec": {
   "display_name": "Python 3",
   "language": "python",
   "name": "python3"
  },
  "language_info": {
   "codemirror_mode": {
    "name": "ipython",
    "version": 3
   },
   "file_extension": ".py",
   "mimetype": "text/x-python",
   "name": "python",
   "nbconvert_exporter": "python",
   "pygments_lexer": "ipython3",
   "version": "3.10.5"
  },
  "orig_nbformat": 4
 },
 "nbformat": 4,
 "nbformat_minor": 2
}
